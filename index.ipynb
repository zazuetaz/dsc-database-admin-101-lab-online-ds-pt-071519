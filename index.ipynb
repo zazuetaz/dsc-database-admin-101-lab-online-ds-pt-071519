{
 "cells": [
  {
   "cell_type": "markdown",
   "metadata": {},
   "source": [
    "# Database Admin 101 - Lab\n",
    "\n",
    "## Introduction \n",
    "\n",
    "In this lab you'll go through the process of designing and creating a database. From there, you'll begin to populate this table with mock data provided to you.\n",
    "\n",
    "## Objectives\n",
    "\n",
    "You will be able to:\n",
    "\n",
    "* Create a SQL database\n",
    "* Create a SQL table\n",
    "* Create rows in a SQL table\n",
    "* Alter entries in a SQL table\n",
    "* Delete entries in a SQL table\n",
    "* Commit changes via sqlite3\n"
   ]
  },
  {
   "cell_type": "markdown",
   "metadata": {},
   "source": [
    "## The Scenario\n",
    "\n",
    "You are looking to design a database for a school which will house various information from student grades to contact information, class roster lists and attendance. First, think of how you would design such a database. What tables would you include? What columns would each table have? What would be the primary means to join said tables?"
   ]
  },
  {
   "cell_type": "markdown",
   "metadata": {},
   "source": [
    "## Creating the Database\n",
    "\n",
    "Now that you've put a little thought into how you might design your database, it's time to go ahead and create it! Start by import the necessary packages. Then, create a database called **school.sqlite**."
   ]
  },
  {
   "cell_type": "code",
   "execution_count": 1,
   "metadata": {},
   "outputs": [],
   "source": [
    "#Your code here; import necessary packages\n",
    "import pandas as pd\n",
    "import sqlite3"
   ]
  },
  {
   "cell_type": "code",
   "execution_count": 2,
   "metadata": {},
   "outputs": [],
   "source": [
    "#Your code here; create the database school.sqlite\n",
    "conn = sqlite3.connect('school.sqlite')\n",
    "cur = conn.cursor()"
   ]
  },
  {
   "cell_type": "markdown",
   "metadata": {},
   "source": [
    "## Create a Table for Contact Information\n",
    "\n",
    "Create a table called contactInfo to house contact information for both students and staff. Be sure to include columns for first name, last name, role (student/staff), email, telephone number, street, city, state and zipcode. Be sure to also create a primary key for the table. "
   ]
  },
  {
   "cell_type": "code",
   "execution_count": 3,
   "metadata": {},
   "outputs": [
    {
     "data": {
      "text/plain": [
       "<sqlite3.Cursor at 0x29903f5b340>"
      ]
     },
     "execution_count": 3,
     "metadata": {},
     "output_type": "execute_result"
    }
   ],
   "source": [
    "#Your code here\n",
    "cur.execute('''CREATE table contactInfo(\n",
    "                                        id INTEGER PRIMARY KEY,\n",
    "                                        firstName TEXT,\n",
    "                                        lastName TEXT,\n",
    "                                        role TEXT,\n",
    "                                        email TEXT,\n",
    "                                        telephone INTEGER,\n",
    "                                        street TEXT,\n",
    "                                        city TEXT,\n",
    "                                        state TEXT,\n",
    "                                        zipcode TEXT)\n",
    "                ''')"
   ]
  },
  {
   "cell_type": "markdown",
   "metadata": {},
   "source": [
    "## Populate the Table\n",
    "\n",
    "Below, code is provided for you in order to load a list of dictionaries. Briefly examine the list. Each dictionary in the list will serve as an entry for your contact info table. Once you've briefly investigated the structure of this data, write a for loop to iterate through the list and create an entry in your table for each person's contact info."
   ]
  },
  {
   "cell_type": "code",
   "execution_count": 4,
   "metadata": {},
   "outputs": [],
   "source": [
    "# Code to load the list of dictionaries; just run this cell\n",
    "import pickle\n",
    "\n",
    "with open('contact_list.pickle', 'rb') as f:\n",
    "    contacts = pickle.load(f)"
   ]
  },
  {
   "cell_type": "code",
   "execution_count": 5,
   "metadata": {},
   "outputs": [
    {
     "data": {
      "text/plain": [
       "{'firstName': 'Christine',\n",
       " 'lastName': 'Holden',\n",
       " 'role': 'staff',\n",
       " 'telephone ': 2035687697,\n",
       " 'street': '1672 Whitman Court',\n",
       " 'city': 'Stamford',\n",
       " 'state': 'CT',\n",
       " 'zipcode ': '06995'}"
      ]
     },
     "execution_count": 5,
     "metadata": {},
     "output_type": "execute_result"
    }
   ],
   "source": [
    "contacts[0]"
   ]
  },
  {
   "cell_type": "code",
   "execution_count": 6,
   "metadata": {},
   "outputs": [],
   "source": [
    "# Your code to iterate over the contact list and populate the contactInfo table here\n",
    "\n",
    "for i in contacts:\n",
    "    firstName = i['firstName']\n",
    "    lastName = i['lastName']\n",
    "    role = i['role']\n",
    "    telephone = i['telephone ']\n",
    "    street = i['street']\n",
    "    city = i['city']\n",
    "    state = i['state']\n",
    "    zipcode = i['zipcode ']\n",
    "    cur.execute('''INSERT INTO contactInfo (firstName, lastName, role, telephone, street, city, state, zipcode)\n",
    "                    VALUES ('{}', '{}', '{}', '{}', '{}', '{}', '{}', '{}');\n",
    "                    '''.format(firstName, lastName, role, telephone, street, city, state, zipcode) )"
   ]
  },
  {
   "cell_type": "markdown",
   "metadata": {},
   "source": [
    "**Query the Table to Ensure it is populated**"
   ]
  },
  {
   "cell_type": "code",
   "execution_count": 7,
   "metadata": {},
   "outputs": [
    {
     "data": {
      "text/html": [
       "<div>\n",
       "<style scoped>\n",
       "    .dataframe tbody tr th:only-of-type {\n",
       "        vertical-align: middle;\n",
       "    }\n",
       "\n",
       "    .dataframe tbody tr th {\n",
       "        vertical-align: top;\n",
       "    }\n",
       "\n",
       "    .dataframe thead th {\n",
       "        text-align: right;\n",
       "    }\n",
       "</style>\n",
       "<table border=\"1\" class=\"dataframe\">\n",
       "  <thead>\n",
       "    <tr style=\"text-align: right;\">\n",
       "      <th></th>\n",
       "      <th>id</th>\n",
       "      <th>firstName</th>\n",
       "      <th>lastName</th>\n",
       "      <th>role</th>\n",
       "      <th>email</th>\n",
       "      <th>telephone</th>\n",
       "      <th>street</th>\n",
       "      <th>city</th>\n",
       "      <th>state</th>\n",
       "      <th>zipcode</th>\n",
       "    </tr>\n",
       "  </thead>\n",
       "  <tbody>\n",
       "    <tr>\n",
       "      <th>0</th>\n",
       "      <td>1</td>\n",
       "      <td>Christine</td>\n",
       "      <td>Holden</td>\n",
       "      <td>staff</td>\n",
       "      <td>None</td>\n",
       "      <td>2035687697</td>\n",
       "      <td>1672 Whitman Court</td>\n",
       "      <td>Stamford</td>\n",
       "      <td>CT</td>\n",
       "      <td>06995</td>\n",
       "    </tr>\n",
       "    <tr>\n",
       "      <th>1</th>\n",
       "      <td>2</td>\n",
       "      <td>Christopher</td>\n",
       "      <td>Warren</td>\n",
       "      <td>student</td>\n",
       "      <td>None</td>\n",
       "      <td>2175150957</td>\n",
       "      <td>1935 University Hill Road</td>\n",
       "      <td>Champaign</td>\n",
       "      <td>IL</td>\n",
       "      <td>61938</td>\n",
       "    </tr>\n",
       "    <tr>\n",
       "      <th>2</th>\n",
       "      <td>3</td>\n",
       "      <td>Linda</td>\n",
       "      <td>Jacobson</td>\n",
       "      <td>staff</td>\n",
       "      <td>None</td>\n",
       "      <td>4049446441</td>\n",
       "      <td>479 Musgrave Street</td>\n",
       "      <td>Atlanta</td>\n",
       "      <td>GA</td>\n",
       "      <td>30303</td>\n",
       "    </tr>\n",
       "    <tr>\n",
       "      <th>3</th>\n",
       "      <td>4</td>\n",
       "      <td>Andrew</td>\n",
       "      <td>Stepp</td>\n",
       "      <td>student</td>\n",
       "      <td>None</td>\n",
       "      <td>7866419252</td>\n",
       "      <td>2981 Lamberts Branch Road</td>\n",
       "      <td>Hialeah</td>\n",
       "      <td>Fl</td>\n",
       "      <td>33012</td>\n",
       "    </tr>\n",
       "    <tr>\n",
       "      <th>4</th>\n",
       "      <td>5</td>\n",
       "      <td>Jane</td>\n",
       "      <td>Evans</td>\n",
       "      <td>student</td>\n",
       "      <td>None</td>\n",
       "      <td>3259909290</td>\n",
       "      <td>1461 Briarhill Lane</td>\n",
       "      <td>Abilene</td>\n",
       "      <td>TX</td>\n",
       "      <td>79602</td>\n",
       "    </tr>\n",
       "    <tr>\n",
       "      <th>5</th>\n",
       "      <td>6</td>\n",
       "      <td>Jane</td>\n",
       "      <td>Evans</td>\n",
       "      <td>student</td>\n",
       "      <td>None</td>\n",
       "      <td>3259909290</td>\n",
       "      <td>1461 Briarhill Lane</td>\n",
       "      <td>Abilene</td>\n",
       "      <td>TX</td>\n",
       "      <td>79602</td>\n",
       "    </tr>\n",
       "    <tr>\n",
       "      <th>6</th>\n",
       "      <td>7</td>\n",
       "      <td>Mary</td>\n",
       "      <td>Raines</td>\n",
       "      <td>student</td>\n",
       "      <td>None</td>\n",
       "      <td>9075772295</td>\n",
       "      <td>3975 Jerry Toth Drive</td>\n",
       "      <td>Ninilchik</td>\n",
       "      <td>AK</td>\n",
       "      <td>99639</td>\n",
       "    </tr>\n",
       "    <tr>\n",
       "      <th>7</th>\n",
       "      <td>8</td>\n",
       "      <td>Ed</td>\n",
       "      <td>Lyman</td>\n",
       "      <td>student</td>\n",
       "      <td>None</td>\n",
       "      <td>5179695576</td>\n",
       "      <td>3478 Be Sreet</td>\n",
       "      <td>Lansing</td>\n",
       "      <td>MI</td>\n",
       "      <td>48933</td>\n",
       "    </tr>\n",
       "  </tbody>\n",
       "</table>\n",
       "</div>"
      ],
      "text/plain": [
       "   id    firstName  lastName     role email   telephone  \\\n",
       "0   1    Christine    Holden    staff  None  2035687697   \n",
       "1   2  Christopher    Warren  student  None  2175150957   \n",
       "2   3        Linda  Jacobson    staff  None  4049446441   \n",
       "3   4       Andrew     Stepp  student  None  7866419252   \n",
       "4   5         Jane     Evans  student  None  3259909290   \n",
       "5   6         Jane     Evans  student  None  3259909290   \n",
       "6   7         Mary    Raines  student  None  9075772295   \n",
       "7   8           Ed     Lyman  student  None  5179695576   \n",
       "\n",
       "                      street       city state zipcode  \n",
       "0         1672 Whitman Court   Stamford    CT   06995  \n",
       "1  1935 University Hill Road  Champaign    IL   61938  \n",
       "2        479 Musgrave Street    Atlanta    GA   30303  \n",
       "3  2981 Lamberts Branch Road    Hialeah    Fl   33012  \n",
       "4        1461 Briarhill Lane    Abilene    TX   79602  \n",
       "5        1461 Briarhill Lane    Abilene    TX   79602  \n",
       "6      3975 Jerry Toth Drive  Ninilchik    AK   99639  \n",
       "7              3478 Be Sreet    Lansing    MI   48933  "
      ]
     },
     "execution_count": 7,
     "metadata": {},
     "output_type": "execute_result"
    }
   ],
   "source": [
    "# Your code here \n",
    "cur.execute('''SELECT * FROM contactInfo''')\n",
    "df = pd.DataFrame(cur.fetchall())\n",
    "df.columns = [i[0] for i in cur.description]\n",
    "df"
   ]
  },
  {
   "cell_type": "markdown",
   "metadata": {},
   "source": [
    "## Commit Your Changes to the Database\n",
    "\n",
    "Persist your changes by committing them to the database."
   ]
  },
  {
   "cell_type": "code",
   "execution_count": 8,
   "metadata": {},
   "outputs": [],
   "source": [
    "#Your code here\n",
    "conn.commit()"
   ]
  },
  {
   "cell_type": "markdown",
   "metadata": {},
   "source": [
    "## Create a Table for Student Grades\n",
    "\n",
    "Create a new table in the database called \"grades\". In the table, include the following fields: userId, courseId, grade.\n",
    "\n",
    "** This problem is a bit more tricky and will require a dual key. (A nuance you have yet to see.)\n",
    "Here's how to do that:\n",
    "\n",
    "```SQL\n",
    "CREATE TABLE table_name(\n",
    "   column_1 INTEGER NOT NULL,\n",
    "   column_2 INTEGER NOT NULL,\n",
    "   ...\n",
    "   PRIMARY KEY(column_1,column_2,...)\n",
    ");\n",
    "```"
   ]
  },
  {
   "cell_type": "code",
   "execution_count": 9,
   "metadata": {},
   "outputs": [
    {
     "data": {
      "text/plain": [
       "<sqlite3.Cursor at 0x29903f5b340>"
      ]
     },
     "execution_count": 9,
     "metadata": {},
     "output_type": "execute_result"
    }
   ],
   "source": [
    "#Your code here; create the grades table.\n",
    "cur.execute('''CREATE table grades(\n",
    "                                   userId INTEGER,\n",
    "                                   courseId INTEGER,\n",
    "                                   grade INTEGER,\n",
    "                                   PRIMARY KEY(userId, courseId));\n",
    "               ''')"
   ]
  },
  {
   "cell_type": "markdown",
   "metadata": {},
   "source": [
    "## Remove Duplicate Entries\n",
    "\n",
    "An analyst just realized that there is a duplicate entry in the contactInfo table! Find and remove it."
   ]
  },
  {
   "cell_type": "code",
   "execution_count": 10,
   "metadata": {},
   "outputs": [
    {
     "data": {
      "text/html": [
       "<div>\n",
       "<style scoped>\n",
       "    .dataframe tbody tr th:only-of-type {\n",
       "        vertical-align: middle;\n",
       "    }\n",
       "\n",
       "    .dataframe tbody tr th {\n",
       "        vertical-align: top;\n",
       "    }\n",
       "\n",
       "    .dataframe thead th {\n",
       "        text-align: right;\n",
       "    }\n",
       "</style>\n",
       "<table border=\"1\" class=\"dataframe\">\n",
       "  <thead>\n",
       "    <tr style=\"text-align: right;\">\n",
       "      <th></th>\n",
       "      <th>id</th>\n",
       "      <th>firstName</th>\n",
       "      <th>lastName</th>\n",
       "      <th>role</th>\n",
       "      <th>email</th>\n",
       "      <th>telephone</th>\n",
       "      <th>street</th>\n",
       "      <th>city</th>\n",
       "      <th>state</th>\n",
       "      <th>zipcode</th>\n",
       "    </tr>\n",
       "  </thead>\n",
       "  <tbody>\n",
       "    <tr>\n",
       "      <th>0</th>\n",
       "      <td>1</td>\n",
       "      <td>Christine</td>\n",
       "      <td>Holden</td>\n",
       "      <td>staff</td>\n",
       "      <td>None</td>\n",
       "      <td>2035687697</td>\n",
       "      <td>1672 Whitman Court</td>\n",
       "      <td>Stamford</td>\n",
       "      <td>CT</td>\n",
       "      <td>06995</td>\n",
       "    </tr>\n",
       "    <tr>\n",
       "      <th>1</th>\n",
       "      <td>2</td>\n",
       "      <td>Christopher</td>\n",
       "      <td>Warren</td>\n",
       "      <td>student</td>\n",
       "      <td>None</td>\n",
       "      <td>2175150957</td>\n",
       "      <td>1935 University Hill Road</td>\n",
       "      <td>Champaign</td>\n",
       "      <td>IL</td>\n",
       "      <td>61938</td>\n",
       "    </tr>\n",
       "    <tr>\n",
       "      <th>2</th>\n",
       "      <td>3</td>\n",
       "      <td>Linda</td>\n",
       "      <td>Jacobson</td>\n",
       "      <td>staff</td>\n",
       "      <td>None</td>\n",
       "      <td>4049446441</td>\n",
       "      <td>479 Musgrave Street</td>\n",
       "      <td>Atlanta</td>\n",
       "      <td>GA</td>\n",
       "      <td>30303</td>\n",
       "    </tr>\n",
       "    <tr>\n",
       "      <th>3</th>\n",
       "      <td>4</td>\n",
       "      <td>Andrew</td>\n",
       "      <td>Stepp</td>\n",
       "      <td>student</td>\n",
       "      <td>None</td>\n",
       "      <td>7866419252</td>\n",
       "      <td>2981 Lamberts Branch Road</td>\n",
       "      <td>Hialeah</td>\n",
       "      <td>Fl</td>\n",
       "      <td>33012</td>\n",
       "    </tr>\n",
       "    <tr>\n",
       "      <th>4</th>\n",
       "      <td>5</td>\n",
       "      <td>Jane</td>\n",
       "      <td>Evans</td>\n",
       "      <td>student</td>\n",
       "      <td>None</td>\n",
       "      <td>3259909290</td>\n",
       "      <td>1461 Briarhill Lane</td>\n",
       "      <td>Abilene</td>\n",
       "      <td>TX</td>\n",
       "      <td>79602</td>\n",
       "    </tr>\n",
       "    <tr>\n",
       "      <th>5</th>\n",
       "      <td>6</td>\n",
       "      <td>Jane</td>\n",
       "      <td>Evans</td>\n",
       "      <td>student</td>\n",
       "      <td>None</td>\n",
       "      <td>3259909290</td>\n",
       "      <td>1461 Briarhill Lane</td>\n",
       "      <td>Abilene</td>\n",
       "      <td>TX</td>\n",
       "      <td>79602</td>\n",
       "    </tr>\n",
       "    <tr>\n",
       "      <th>6</th>\n",
       "      <td>7</td>\n",
       "      <td>Mary</td>\n",
       "      <td>Raines</td>\n",
       "      <td>student</td>\n",
       "      <td>None</td>\n",
       "      <td>9075772295</td>\n",
       "      <td>3975 Jerry Toth Drive</td>\n",
       "      <td>Ninilchik</td>\n",
       "      <td>AK</td>\n",
       "      <td>99639</td>\n",
       "    </tr>\n",
       "    <tr>\n",
       "      <th>7</th>\n",
       "      <td>8</td>\n",
       "      <td>Ed</td>\n",
       "      <td>Lyman</td>\n",
       "      <td>student</td>\n",
       "      <td>None</td>\n",
       "      <td>5179695576</td>\n",
       "      <td>3478 Be Sreet</td>\n",
       "      <td>Lansing</td>\n",
       "      <td>MI</td>\n",
       "      <td>48933</td>\n",
       "    </tr>\n",
       "  </tbody>\n",
       "</table>\n",
       "</div>"
      ],
      "text/plain": [
       "   id    firstName  lastName     role email   telephone  \\\n",
       "0   1    Christine    Holden    staff  None  2035687697   \n",
       "1   2  Christopher    Warren  student  None  2175150957   \n",
       "2   3        Linda  Jacobson    staff  None  4049446441   \n",
       "3   4       Andrew     Stepp  student  None  7866419252   \n",
       "4   5         Jane     Evans  student  None  3259909290   \n",
       "5   6         Jane     Evans  student  None  3259909290   \n",
       "6   7         Mary    Raines  student  None  9075772295   \n",
       "7   8           Ed     Lyman  student  None  5179695576   \n",
       "\n",
       "                      street       city state zipcode  \n",
       "0         1672 Whitman Court   Stamford    CT   06995  \n",
       "1  1935 University Hill Road  Champaign    IL   61938  \n",
       "2        479 Musgrave Street    Atlanta    GA   30303  \n",
       "3  2981 Lamberts Branch Road    Hialeah    Fl   33012  \n",
       "4        1461 Briarhill Lane    Abilene    TX   79602  \n",
       "5        1461 Briarhill Lane    Abilene    TX   79602  \n",
       "6      3975 Jerry Toth Drive  Ninilchik    AK   99639  \n",
       "7              3478 Be Sreet    Lansing    MI   48933  "
      ]
     },
     "execution_count": 10,
     "metadata": {},
     "output_type": "execute_result"
    }
   ],
   "source": [
    "#Your code here; find the duplicate entry\n",
    "cur.execute('''SELECT * FROM contactInfo''')\n",
    "\n",
    "df = pd.DataFrame(cur.fetchall())\n",
    "df.columns = [i[0] for i in cur.description]\n",
    "df"
   ]
  },
  {
   "cell_type": "code",
   "execution_count": 11,
   "metadata": {},
   "outputs": [
    {
     "data": {
      "text/plain": [
       "<sqlite3.Cursor at 0x29903f5b340>"
      ]
     },
     "execution_count": 11,
     "metadata": {},
     "output_type": "execute_result"
    }
   ],
   "source": [
    "#Your code here; delete the duplicate entry\n",
    "cur.execute('''DELETE FROM contactInfo WHERE id = 6;''')"
   ]
  },
  {
   "cell_type": "code",
   "execution_count": 12,
   "metadata": {},
   "outputs": [
    {
     "data": {
      "text/html": [
       "<div>\n",
       "<style scoped>\n",
       "    .dataframe tbody tr th:only-of-type {\n",
       "        vertical-align: middle;\n",
       "    }\n",
       "\n",
       "    .dataframe tbody tr th {\n",
       "        vertical-align: top;\n",
       "    }\n",
       "\n",
       "    .dataframe thead th {\n",
       "        text-align: right;\n",
       "    }\n",
       "</style>\n",
       "<table border=\"1\" class=\"dataframe\">\n",
       "  <thead>\n",
       "    <tr style=\"text-align: right;\">\n",
       "      <th></th>\n",
       "      <th>id</th>\n",
       "      <th>firstName</th>\n",
       "      <th>lastName</th>\n",
       "      <th>role</th>\n",
       "      <th>email</th>\n",
       "      <th>telephone</th>\n",
       "      <th>street</th>\n",
       "      <th>city</th>\n",
       "      <th>state</th>\n",
       "      <th>zipcode</th>\n",
       "    </tr>\n",
       "  </thead>\n",
       "  <tbody>\n",
       "    <tr>\n",
       "      <th>0</th>\n",
       "      <td>1</td>\n",
       "      <td>Christine</td>\n",
       "      <td>Holden</td>\n",
       "      <td>staff</td>\n",
       "      <td>None</td>\n",
       "      <td>2035687697</td>\n",
       "      <td>1672 Whitman Court</td>\n",
       "      <td>Stamford</td>\n",
       "      <td>CT</td>\n",
       "      <td>06995</td>\n",
       "    </tr>\n",
       "    <tr>\n",
       "      <th>1</th>\n",
       "      <td>2</td>\n",
       "      <td>Christopher</td>\n",
       "      <td>Warren</td>\n",
       "      <td>student</td>\n",
       "      <td>None</td>\n",
       "      <td>2175150957</td>\n",
       "      <td>1935 University Hill Road</td>\n",
       "      <td>Champaign</td>\n",
       "      <td>IL</td>\n",
       "      <td>61938</td>\n",
       "    </tr>\n",
       "    <tr>\n",
       "      <th>2</th>\n",
       "      <td>3</td>\n",
       "      <td>Linda</td>\n",
       "      <td>Jacobson</td>\n",
       "      <td>staff</td>\n",
       "      <td>None</td>\n",
       "      <td>4049446441</td>\n",
       "      <td>479 Musgrave Street</td>\n",
       "      <td>Atlanta</td>\n",
       "      <td>GA</td>\n",
       "      <td>30303</td>\n",
       "    </tr>\n",
       "    <tr>\n",
       "      <th>3</th>\n",
       "      <td>4</td>\n",
       "      <td>Andrew</td>\n",
       "      <td>Stepp</td>\n",
       "      <td>student</td>\n",
       "      <td>None</td>\n",
       "      <td>7866419252</td>\n",
       "      <td>2981 Lamberts Branch Road</td>\n",
       "      <td>Hialeah</td>\n",
       "      <td>Fl</td>\n",
       "      <td>33012</td>\n",
       "    </tr>\n",
       "    <tr>\n",
       "      <th>4</th>\n",
       "      <td>5</td>\n",
       "      <td>Jane</td>\n",
       "      <td>Evans</td>\n",
       "      <td>student</td>\n",
       "      <td>None</td>\n",
       "      <td>3259909290</td>\n",
       "      <td>1461 Briarhill Lane</td>\n",
       "      <td>Abilene</td>\n",
       "      <td>TX</td>\n",
       "      <td>79602</td>\n",
       "    </tr>\n",
       "    <tr>\n",
       "      <th>5</th>\n",
       "      <td>7</td>\n",
       "      <td>Mary</td>\n",
       "      <td>Raines</td>\n",
       "      <td>student</td>\n",
       "      <td>None</td>\n",
       "      <td>9075772295</td>\n",
       "      <td>3975 Jerry Toth Drive</td>\n",
       "      <td>Ninilchik</td>\n",
       "      <td>AK</td>\n",
       "      <td>99639</td>\n",
       "    </tr>\n",
       "    <tr>\n",
       "      <th>6</th>\n",
       "      <td>8</td>\n",
       "      <td>Ed</td>\n",
       "      <td>Lyman</td>\n",
       "      <td>student</td>\n",
       "      <td>None</td>\n",
       "      <td>5179695576</td>\n",
       "      <td>3478 Be Sreet</td>\n",
       "      <td>Lansing</td>\n",
       "      <td>MI</td>\n",
       "      <td>48933</td>\n",
       "    </tr>\n",
       "  </tbody>\n",
       "</table>\n",
       "</div>"
      ],
      "text/plain": [
       "   id    firstName  lastName     role email   telephone  \\\n",
       "0   1    Christine    Holden    staff  None  2035687697   \n",
       "1   2  Christopher    Warren  student  None  2175150957   \n",
       "2   3        Linda  Jacobson    staff  None  4049446441   \n",
       "3   4       Andrew     Stepp  student  None  7866419252   \n",
       "4   5         Jane     Evans  student  None  3259909290   \n",
       "5   7         Mary    Raines  student  None  9075772295   \n",
       "6   8           Ed     Lyman  student  None  5179695576   \n",
       "\n",
       "                      street       city state zipcode  \n",
       "0         1672 Whitman Court   Stamford    CT   06995  \n",
       "1  1935 University Hill Road  Champaign    IL   61938  \n",
       "2        479 Musgrave Street    Atlanta    GA   30303  \n",
       "3  2981 Lamberts Branch Road    Hialeah    Fl   33012  \n",
       "4        1461 Briarhill Lane    Abilene    TX   79602  \n",
       "5      3975 Jerry Toth Drive  Ninilchik    AK   99639  \n",
       "6              3478 Be Sreet    Lansing    MI   48933  "
      ]
     },
     "execution_count": 12,
     "metadata": {},
     "output_type": "execute_result"
    }
   ],
   "source": [
    "#Your code here; check that the duplicate entry was removed.\n",
    "cur.execute('''SELECT * FROM contactInfo''')\n",
    "\n",
    "df = pd.DataFrame(cur.fetchall())\n",
    "df.columns = [i[0] for i in cur.description]\n",
    "df"
   ]
  },
  {
   "cell_type": "markdown",
   "metadata": {},
   "source": [
    "## Updating an Address\n",
    "\n",
    "Ed Lyman just moved to `2910 Simpson Avenue York, PA 17403`. Update his address accordingly."
   ]
  },
  {
   "cell_type": "code",
   "execution_count": 13,
   "metadata": {},
   "outputs": [
    {
     "ename": "OperationalError",
     "evalue": "near \"SET\": syntax error",
     "output_type": "error",
     "traceback": [
      "\u001b[1;31m---------------------------------------------------------------------------\u001b[0m",
      "\u001b[1;31mOperationalError\u001b[0m                          Traceback (most recent call last)",
      "\u001b[1;32m<ipython-input-13-4ac87f671e27>\u001b[0m in \u001b[0;36m<module>\u001b[1;34m()\u001b[0m\n\u001b[0;32m      6\u001b[0m                \u001b[0mSET\u001b[0m \u001b[0mzipcode\u001b[0m \u001b[1;33m=\u001b[0m \u001b[1;34m'17403'\u001b[0m\u001b[1;33m\u001b[0m\u001b[0m\n\u001b[0;32m      7\u001b[0m                \u001b[0mWHERE\u001b[0m \u001b[0mlastName\u001b[0m \u001b[1;33m=\u001b[0m \u001b[1;34m'Lyman'\u001b[0m\u001b[1;33m\u001b[0m\u001b[0m\n\u001b[1;32m----> 8\u001b[1;33m                ''')\n\u001b[0m",
      "\u001b[1;31mOperationalError\u001b[0m: near \"SET\": syntax error"
     ]
    }
   ],
   "source": [
    "#Your code here; update Ed's address\n",
    "cur.execute('''UPDATE contactInfo\n",
    "               SET street = '2910 Simpson Avenue', city = 'York', state = 'PA'\n",
    "               SET zipcode = '17403'\n",
    "               WHERE lastName = 'Lyman'\n",
    "               ''')"
   ]
  },
  {
   "cell_type": "code",
   "execution_count": null,
   "metadata": {},
   "outputs": [],
   "source": [
    "#Your code here; Query the database to ensure the change was made"
   ]
  },
  {
   "cell_type": "markdown",
   "metadata": {},
   "source": [
    "## Commit Your Changes to the Database\n",
    "\n",
    "Once again, persist your changes by committing them to the database."
   ]
  },
  {
   "cell_type": "code",
   "execution_count": null,
   "metadata": {},
   "outputs": [],
   "source": [
    "#Your code here"
   ]
  },
  {
   "cell_type": "markdown",
   "metadata": {},
   "source": [
    "## Summary\n",
    "\n",
    "While there's certainly more to do with setting up and managing this database, you got a taste for creating, populating, and maintaining databases! Feel free to continue fleshing out this exercise for more practice. "
   ]
  }
 ],
 "metadata": {
  "kernelspec": {
   "display_name": "Python 3",
   "language": "python",
   "name": "python3"
  },
  "language_info": {
   "codemirror_mode": {
    "name": "ipython",
    "version": 3
   },
   "file_extension": ".py",
   "mimetype": "text/x-python",
   "name": "python",
   "nbconvert_exporter": "python",
   "pygments_lexer": "ipython3",
   "version": "3.6.6"
  },
  "toc": {
   "base_numbering": 1,
   "nav_menu": {},
   "number_sections": true,
   "sideBar": true,
   "skip_h1_title": false,
   "title_cell": "Table of Contents",
   "title_sidebar": "Contents",
   "toc_cell": false,
   "toc_position": {},
   "toc_section_display": true,
   "toc_window_display": false
  }
 },
 "nbformat": 4,
 "nbformat_minor": 2
}
